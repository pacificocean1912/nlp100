{
 "cells": [
  {
   "cell_type": "markdown",
   "id": "4eef566e",
   "metadata": {},
   "source": [
    "task 0"
   ]
  },
  {
   "cell_type": "code",
   "execution_count": 11,
   "id": "6d070c42",
   "metadata": {},
   "outputs": [
    {
     "name": "stdout",
     "output_type": "stream",
     "text": [
      "desserts\n"
     ]
    }
   ],
   "source": [
    "s = \"stressed\"\n",
    "print(s[::-1])  # Output: desserts\n"
   ]
  },
  {
   "cell_type": "markdown",
   "id": "568400e2",
   "metadata": {},
   "source": [
    "task 1"
   ]
  },
  {
   "cell_type": "code",
   "execution_count": 12,
   "id": "812ae504",
   "metadata": {},
   "outputs": [
    {
     "name": "stdout",
     "output_type": "stream",
     "text": [
      "shoe\n"
     ]
    }
   ],
   "source": [
    "s = \"schooled\"\n",
    "print(s[0] + s[2] + s[4] + s[6])  # Output: seed\n"
   ]
  },
  {
   "cell_type": "markdown",
   "id": "bac11510",
   "metadata": {},
   "source": [
    "task 2"
   ]
  },
  {
   "cell_type": "code",
   "execution_count": 13,
   "id": "e786a8f1",
   "metadata": {},
   "outputs": [
    {
     "name": "stdout",
     "output_type": "stream",
     "text": [
      "shoecold\n"
     ]
    }
   ],
   "source": [
    "print(\"shoe\" + \"cold\")  # Output: schooled\n"
   ]
  },
  {
   "cell_type": "markdown",
   "id": "c54b1874",
   "metadata": {},
   "source": [
    "task 3"
   ]
  },
  {
   "cell_type": "code",
   "execution_count": 14,
   "id": "b78820ef",
   "metadata": {},
   "outputs": [
    {
     "name": "stdout",
     "output_type": "stream",
     "text": [
      "[3, 1, 4, 1, 5, 9, 2, 6, 5, 3, 5, 8, 9, 7, 9]\n"
     ]
    }
   ],
   "source": [
    "sentence = \"Now I need a drink, alcoholic of course, after the heavy lectures involving quantum mechanics\"\n",
    "words = sentence.split()\n",
    "lengths = [len(word.strip(\",.\")) for word in words]\n",
    "print(lengths)  # Output: [3, 1, 4, 1, 5, 9, 2, 6, 5, 3, 5, 8, 9, 7, 9]\n"
   ]
  },
  {
   "cell_type": "markdown",
   "id": "0607327d",
   "metadata": {},
   "source": [
    "task 4"
   ]
  },
  {
   "cell_type": "code",
   "execution_count": 15,
   "id": "61ba6604",
   "metadata": {},
   "outputs": [
    {
     "data": {
      "text/plain": [
       "{'H': 1,\n",
       " 'He': 2,\n",
       " 'Li': 3,\n",
       " 'Be': 4,\n",
       " 'B': 5,\n",
       " 'C': 6,\n",
       " 'N': 7,\n",
       " 'O': 8,\n",
       " 'F': 9,\n",
       " 'Ne': 10,\n",
       " 'Na': 11,\n",
       " 'Mi': 12,\n",
       " 'Al': 13,\n",
       " 'Si': 14,\n",
       " 'P': 15,\n",
       " 'S': 16,\n",
       " 'Cl': 17,\n",
       " 'Ar': 18,\n",
       " 'K': 19,\n",
       " 'Ca': 20}"
      ]
     },
     "execution_count": 15,
     "metadata": {},
     "output_type": "execute_result"
    }
   ],
   "source": [
    "sentence = \"Hi He Lied Because Boron Could Not Oxidize Fluorine New Nations Might Also Sign Peace Security Clause Arthur King Can\"\n",
    "words = sentence.split()\n",
    "indices = [1, 5, 6, 7, 8, 9, 15, 16, 19]\n",
    "result = {}\n",
    "for i, word in enumerate(words, 1):\n",
    "    if i in indices:\n",
    "        result[word[0]] = i\n",
    "    else:\n",
    "        result[word[:2]] = i\n",
    "result\n"
   ]
  },
  {
   "cell_type": "markdown",
   "id": "500577a2",
   "metadata": {},
   "source": [
    "task 5"
   ]
  },
  {
   "cell_type": "code",
   "execution_count": 16,
   "id": "1ec438cb",
   "metadata": {},
   "outputs": [
    {
     "name": "stdout",
     "output_type": "stream",
     "text": [
      "[['I', 'am'], ['am', 'an'], ['an', 'NLPer']]\n",
      "['I ', ' a', 'am', 'm ', ' a', 'an', 'n ', ' N', 'NL', 'LP', 'Pe', 'er']\n"
     ]
    }
   ],
   "source": [
    "def n_gram(sequence, n):\n",
    "    return [sequence[i:i+n] for i in range(len(sequence)-n+1)]\n",
    "\n",
    "sentence = \"I am an NLPer\"\n",
    "print(n_gram(sentence.split(), 2))  # Word bi-grams\n",
    "print(n_gram(sentence, 2))         # Letter bi-grams\n"
   ]
  },
  {
   "cell_type": "markdown",
   "id": "a3244220",
   "metadata": {},
   "source": [
    "task 6"
   ]
  },
  {
   "cell_type": "code",
   "execution_count": 17,
   "id": "34367155",
   "metadata": {},
   "outputs": [
    {
     "name": "stdout",
     "output_type": "stream",
     "text": [
      "Union: {'ar', 'pa', 'is', 'ag', 'ph', 'gr', 'ra', 'ap', 'ad', 'di', 'se'}\n",
      "Intersection: {'ap', 'ra', 'ar', 'pa'}\n",
      "Difference: {'di', 'is', 'se', 'ad'}\n",
      "'se' in X: True\n",
      "'se' in Y: False\n"
     ]
    }
   ],
   "source": [
    "def letter_bigrams(word):\n",
    "    return {word[i:i+2] for i in range(len(word)-1)}\n",
    "\n",
    "X = letter_bigrams(\"paraparaparadise\")\n",
    "Y = letter_bigrams(\"paragraph\")\n",
    "\n",
    "print(\"Union:\", X | Y)\n",
    "print(\"Intersection:\", X & Y)\n",
    "print(\"Difference:\", X - Y)\n",
    "print(\"'se' in X:\", 'se' in X)\n",
    "print(\"'se' in Y:\", 'se' in Y)\n"
   ]
  },
  {
   "cell_type": "markdown",
   "id": "4a2c36fa",
   "metadata": {},
   "source": [
    "task 7"
   ]
  },
  {
   "cell_type": "code",
   "execution_count": 18,
   "id": "20f9ada0",
   "metadata": {},
   "outputs": [
    {
     "data": {
      "text/plain": [
       "'temperature is 22.4 at 12'"
      ]
     },
     "execution_count": 18,
     "metadata": {},
     "output_type": "execute_result"
    }
   ],
   "source": [
    "def template(x, y, z):\n",
    "    return f\"{y} is {z} at {x}\"\n",
    "\n",
    "(template(12, \"temperature\", 22.4))  # Output: temperature is 22.4 at 12\n"
   ]
  },
  {
   "cell_type": "markdown",
   "id": "ae0d90aa",
   "metadata": {},
   "source": [
    "task 8"
   ]
  },
  {
   "cell_type": "code",
   "execution_count": 19,
   "id": "400d1c00",
   "metadata": {},
   "outputs": [
    {
     "data": {
      "text/plain": [
       "('encoded', 'Hvool Wliow', 'decoded', 'Hello World')"
      ]
     },
     "execution_count": 19,
     "metadata": {},
     "output_type": "execute_result"
    }
   ],
   "source": [
    "def cipher(text):\n",
    "    return ''.join(chr(219 - ord(c)) if c.islower() else c for c in text)\n",
    "\n",
    "message = \"Hello World\"\n",
    "encoded = cipher(message)\n",
    "decoded = cipher(encoded)\n",
    "\"encoded\",encoded,\"decoded\",decoded \n"
   ]
  },
  {
   "cell_type": "markdown",
   "id": "12d99b5b",
   "metadata": {},
   "source": [
    "task 9"
   ]
  },
  {
   "cell_type": "code",
   "execution_count": 20,
   "id": "5f6e192c",
   "metadata": {},
   "outputs": [
    {
     "data": {
      "text/plain": [
       "\"I co'ludnt bievele that I cluod aatlulcy unsernatdd what I was rdenaig : the peneaomnhl pweor of the hamun mind\""
      ]
     },
     "execution_count": 20,
     "metadata": {},
     "output_type": "execute_result"
    }
   ],
   "source": [
    "import random\n",
    "\n",
    "def shuffle_word(word):\n",
    "    if len(word) <= 4:\n",
    "        return word\n",
    "    middle = list(word[1:-1])\n",
    "    random.shuffle(middle)\n",
    "    return word[0] + ''.join(middle) + word[-1]\n",
    "\n",
    "sentence = \"I couldn't believe that I could actually understand what I was reading : the phenomenal power of the human mind\"\n",
    "result = ' '.join(shuffle_word(word) for word in sentence.split())\n",
    "result\n"
   ]
  },
  {
   "cell_type": "code",
   "execution_count": null,
   "id": "982f2a6b-184c-4a8b-998a-592ff70c4916",
   "metadata": {},
   "outputs": [],
   "source": []
  },
  {
   "cell_type": "code",
   "execution_count": null,
   "id": "68924780-5d26-46d7-92d5-52a692b8f794",
   "metadata": {},
   "outputs": [],
   "source": []
  },
  {
   "cell_type": "code",
   "execution_count": null,
   "id": "eb790fb0-1c5d-46e2-ba19-7d20d52894b0",
   "metadata": {},
   "outputs": [],
   "source": []
  }
 ],
 "metadata": {
  "kernelspec": {
   "display_name": "Python 3 (ipykernel)",
   "language": "python",
   "name": "python3"
  },
  "language_info": {
   "codemirror_mode": {
    "name": "ipython",
    "version": 3
   },
   "file_extension": ".py",
   "mimetype": "text/x-python",
   "name": "python",
   "nbconvert_exporter": "python",
   "pygments_lexer": "ipython3",
   "version": "3.11.9"
  }
 },
 "nbformat": 4,
 "nbformat_minor": 5
}
